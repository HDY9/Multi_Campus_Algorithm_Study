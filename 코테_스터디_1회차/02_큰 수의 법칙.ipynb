{
 "cells": [
  {
   "cell_type": "markdown",
   "id": "946a750b",
   "metadata": {},
   "source": [
    "# 문제  \n",
    "- 첫째 줄에 N(2<=N<=1000), M(1<=M<=10000), K(1<=K<=10000)의 자연수가 주어지며, 각 자연수는 공백으로 구분한다.  \n",
    "- 둘째 줄에 N개의 자연수가 주어진다. 각 자연수는 공백으로 구분한다. 단, 각각의 자연수는 1 이상 10000 이하의 수로 주어진다.  \n",
    "- 입력으로 주어지는 K는 항상 M보다 작거나 같다."
   ]
  },
  {
   "cell_type": "code",
   "execution_count": null,
   "id": "7451008c",
   "metadata": {},
   "outputs": [
    {
     "name": "stdout",
     "output_type": "stream",
     "text": [
      "자연수를 입력하세요: 5 8 4\n"
     ]
    }
   ],
   "source": [
    "N, M, K = map(int, input('자연수를 입력하세요: ').split())\n",
    "data = list(map(int, input('N개 만큼 수를 입력하세요: ').split()))\n",
    "\n",
    "Max = max(data)\n",
    "Max2 = sorted(data)[-2]\n",
    "\n",
    "# print(Max)\n",
    "# print(Max2)\n",
    "\n",
    "result = 0\n",
    "for m in range(M):\n",
    "    if result == Max*3 or result == Max*6+Max2:\n",
    "        result += Max2\n",
    "    else:\n",
    "        result += Max\n",
    "print(result)\n",
    "        \n",
    "\n",
    "            "
   ]
  },
  {
   "cell_type": "markdown",
   "id": "781a5c15",
   "metadata": {},
   "source": [
    "###### 정답1"
   ]
  },
  {
   "cell_type": "code",
   "execution_count": 14,
   "id": "2fbc342a",
   "metadata": {},
   "outputs": [
    {
     "name": "stdout",
     "output_type": "stream",
     "text": [
      "5 8 3\n",
      "2 4 5 4 6\n",
      "46\n"
     ]
    }
   ],
   "source": [
    "# N, M, K를 공백으로 구분하여 입력받기\n",
    "N, M, K = map(int, input().split())\n",
    "\n",
    "# N개의 수를 공백으로 구분하여 입력받기\n",
    "data = list(map(int, input().split()))\n",
    "\n",
    "data.sort()  # 입력받은 수들 정렬하기\n",
    "first = data[N-1]  # 가장 큰 수\n",
    "second = data[N-2]  # 두 번재로 큰 수\n",
    "\n",
    "result = 0  # 초깃값 설정\n",
    "\n",
    "while True:\n",
    "    for i in range(K):  # 가장 큰 수를 K번 더하기\n",
    "        if M == 0:  # m이 0이라면 반복문 탈출\n",
    "            break\n",
    "        result += first\n",
    "        M -= 1  # 더할 때마다 m은 1씩 빼기\n",
    "    if M == 0:\n",
    "        break\n",
    "    result += second  # for문 밖  >> 가장 큰 수를 k번 연속 더하면, 두 번째로 큰 수를 더해야 하기 때문에.\n",
    "    M -= 1\n",
    "    \n",
    "print(result)\n",
    "\n",
    "# M은 총 8번 연산 횟수를 나타냄.\n",
    "# 매 계산마다 M의 수를 1씩 차감하여 카운트함.\n",
    "# 가장 큰 수를 K번 반복해야 하는 조건을 수행하기 위해 for문을 사용."
   ]
  },
  {
   "cell_type": "code",
   "execution_count": 15,
   "id": "c89de665",
   "metadata": {},
   "outputs": [
    {
     "name": "stdout",
     "output_type": "stream",
     "text": [
      "5 8 3\n",
      "2 4 5 4 6\n",
      "46\n"
     ]
    }
   ],
   "source": [
    "# N, M, K를 공백으로 구분하여 입력받기\n",
    "N, M, K = map(int, input().split())\n",
    "\n",
    "# N개의 수를 공백으로 구분하여 입력받기\n",
    "data = list(map(int, input().split()))\n",
    "\n",
    "data.sort()  # 입력받은 수들 정렬하기\n",
    "first = data[N-1]  # 가장 큰 수\n",
    "second = data[N-2]  # 두 번재로 큰 수\n",
    "\n",
    "count = int(M/(K+1))*K\n",
    "count += M%(K+1)\n",
    "\n",
    "result = 0\n",
    "result += count*first\n",
    "result += (M-count)*second\n",
    "\n",
    "print(result)\n",
    "\n",
    "# 이런 발상 어캐 함.."
   ]
  }
 ],
 "metadata": {
  "kernelspec": {
   "display_name": "Python 3 (ipykernel)",
   "language": "python",
   "name": "python3"
  },
  "language_info": {
   "codemirror_mode": {
    "name": "ipython",
    "version": 3
   },
   "file_extension": ".py",
   "mimetype": "text/x-python",
   "name": "python",
   "nbconvert_exporter": "python",
   "pygments_lexer": "ipython3",
   "version": "3.9.12"
  }
 },
 "nbformat": 4,
 "nbformat_minor": 5
}
