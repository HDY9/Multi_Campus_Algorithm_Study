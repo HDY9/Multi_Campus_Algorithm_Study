{
 "cells": [
  {
   "cell_type": "markdown",
   "id": "4a3686f9",
   "metadata": {},
   "source": [
    "# 문제\n",
    "여행가 A는 NxN 크기의 정사각형 공간 위에 서 있다. 이 공간은 1x1 크기의 정사각형으로 나누어져 있다. 가장 왼쪽 위 좌표는 (1,1)이며,  \n",
    "가장 오른쪽 아래 좌표는 (N,N)에 해당한다. 여행가 A는 상, 하, 좌, 우 방향으로 이동할 수 있으며, 시작 좌표는 항상 (1,1)이다.  \n",
    "우리 앞에는 여행가 A가 이동할 계획이 적힌 계획서가 놓여 있다.  \n",
    "![nn](상하좌우.png)  \n",
    "계획서에는 하나의 줄에 띄어쓰기를 기준으로 하여 L,R,U,D 중 하나의 문자가 반복적으로 적혀있다. 각 문자의 의미는 다음과 같다.  \n",
    "L : 왼쪽으로 한 칸 이동  \n",
    "R : 오른쪽으로 한 칸 이동  \n",
    "U : 위로 한 칸 이동  \n",
    "D : 아래로 한 칸 이동  \n",
    "이때 여행가 A가 NxN 크기의 정사각형 공간을 벗어나는 움직임은 무시된다. 예를 들어, (1,1)의 위치에서 L혹은 U를 만나면 무시된다.  \n",
    "다음은 N = 5인 지도와 계획서이다.  \n",
    "이 경우 6개의 명령에 따라서 여행가가 움직이게 되는 위치는 순서대로 (1,2), (1,3), (1,4), (1,4), (2,4), (3,4)이므로, 최종적으로  \n",
    "여행가 A가 도착하게 되는 좌표는 (3,4)이다. 다시 말해 3행 4열의 위치에 해당하므로 (3,4)라고 적는다. 계획서가 주어졌을 때 여행가 A가  \n",
    "최종적으로 도착할 지점의 좌표를 출력하는 프로그램을 작성하시오."
   ]
  },
  {
   "cell_type": "markdown",
   "id": "7526791b",
   "metadata": {},
   "source": [
    "###### 입력 조건\n",
    "- 첫째 줄에 공간의 크기를 나타내는 N이 주어진다. (1<=N<=100)\n",
    "- 둘째 줄에 여행가 A가 이동할 계획서 내용이 주어진다. (1<=이동 횟수<=100)"
   ]
  },
  {
   "cell_type": "markdown",
   "id": "1903a278",
   "metadata": {},
   "source": [
    "###### 출력 조건\n",
    "- 첫째 줄에 여행가 A가 최종적으로 도착할 지점의 좌표 (X,Y)를 공백으로 구분하여 출력한다."
   ]
  },
  {
   "cell_type": "code",
   "execution_count": 3,
   "id": "775f6a30",
   "metadata": {},
   "outputs": [
    {
     "name": "stdout",
     "output_type": "stream",
     "text": [
      "5\n",
      "R R R U D D\n",
      "3 4\n"
     ]
    }
   ],
   "source": [
    "N = int(input())\n",
    "plan = input().split()\n",
    "\n",
    "(x,y) = (1,1)  # 시작 좌표\n",
    "# print(x)\n",
    "\n",
    "# L, R, U, D 정의\n",
    "for i in plan:  \n",
    "    # input 값으로 L, R ,U, D를 입력하는데 아무래도 이 변수들이 뜻하는 값을 지정해 주어야 좌표 값이 나올 것 같았다.\n",
    "    # 시작 좌표는 1,1이니깐 1,1 기준에서 생각하기 시작.\n",
    "    if i == 'L':\n",
    "    # 'L'은 왼쪽으로 간다는 의미. 하지만 1,1일 때 더이상 왼쪽으로 갈 수 없으므로 무시한다.\n",
    "    # 그러므로 무시할 수 없는 경우의 수인 1이 아닐 때를 기준으로 잡았다.\n",
    "        if y != 1:\n",
    "            y -= 1\n",
    "    # 왜 y를 괴롭혔는가? L이 가진 능력은 위, 아래가 아니라 좌, 우다. 즉 컬럼의 크기에만 변동을 줄 수 있다.\n",
    "    elif i == 'R':\n",
    "        if y != N:\n",
    "            y += 1\n",
    "    # 마찬가지로 'R'은 NxN기준 N열에 있을 땐 더이상 오른쪽으로 이동할 수 없다. 그 경우가 아닐 때를 기준으로 잡아서 진행.\n",
    "    elif i == 'U':\n",
    "        if x != 1:\n",
    "            x -= 1\n",
    "    # U는 위로 움직이기 위한 설정. 더이상 올라갈 수 없는 부분인 x=1일 때를 기준으로 1이 아닐 때의 경우의 수를 다뤘다.\n",
    "    elif i == 'D':\n",
    "        if x != N:\n",
    "            x += 1\n",
    "print(x,y)"
   ]
  },
  {
   "cell_type": "markdown",
   "id": "2f12b7f6",
   "metadata": {},
   "source": [
    "### 변수 정리\n",
    "- N >> 총 지도의 크기를 결정하는 변수.  \n",
    "- plan >> 계획서 방향이 담겨있는 변수.    \n",
    "- x >> 도착 지점의 x좌표 값.    \n",
    "- y >> 도착 지점의 y좌표 값.    \n",
    "- L >> 왼쪽으로 한 칸 이동. 단, 더이상 갈 곳이 없을 땐 무시.  \n",
    "- R >> 오른쪽으로 한 칸 이동. 단, 더이상 갈 곳이 없을 땐 무시.\n",
    "- U >> 위로 한 칸 이동. 단, 더이상 갈 곳이 없을 땐 무시.  \n",
    "- D >> 아래로 한 칸 이동. 단, 더이상 갈 곳이 없을 땐 무시.  \n",
    "\n",
    "### 풀이\n",
    "- 대부분 주석으로 단 게 전부.  \n",
    "- 핵심은 L, R, U, D를 정의하는 것이라고 생각함.  \n",
    "- 생각보다 따져볼 경우의 수가 적어서 if문의 연속으로 해결함.  \n",
    "- 경우의 수가 많았을 경우, 예를 들면 무시하는 경우가 없었다면, 다른 풀이 방식을 택해야 했을 것 같음."
   ]
  },
  {
   "cell_type": "markdown",
   "id": "367c600a",
   "metadata": {},
   "source": [
    "###### 정답"
   ]
  },
  {
   "cell_type": "code",
   "execution_count": 4,
   "id": "58cd257e",
   "metadata": {},
   "outputs": [
    {
     "name": "stdout",
     "output_type": "stream",
     "text": [
      "5\n",
      "R R R U D D\n",
      "3 4\n"
     ]
    }
   ],
   "source": [
    "n = int(input())\n",
    "x,y = 1,1\n",
    "plans = input().split()\n",
    "\n",
    "dx = [0,0,-1,1]\n",
    "dy = [-1,1,0,0]\n",
    "move_types = ['L','R','U','D']\n",
    "\n",
    "for plan in plans:\n",
    "    for i in range(len(move_types)):\n",
    "        if plan == move_types[i]:\n",
    "            nx = x + dx[i]\n",
    "            ny = y + dy[i]\n",
    "    if nx < 1 or ny < 1 or nx > n or ny > n:\n",
    "        continue\n",
    "    x,y = nx, ny\n",
    "print(x,y)"
   ]
  }
 ],
 "metadata": {
  "kernelspec": {
   "display_name": "Python 3 (ipykernel)",
   "language": "python",
   "name": "python3"
  },
  "language_info": {
   "codemirror_mode": {
    "name": "ipython",
    "version": 3
   },
   "file_extension": ".py",
   "mimetype": "text/x-python",
   "name": "python",
   "nbconvert_exporter": "python",
   "pygments_lexer": "ipython3",
   "version": "3.9.12"
  }
 },
 "nbformat": 4,
 "nbformat_minor": 5
}
