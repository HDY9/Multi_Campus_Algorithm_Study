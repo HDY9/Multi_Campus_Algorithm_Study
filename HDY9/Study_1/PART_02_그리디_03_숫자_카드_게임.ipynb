{
 "cells": [
  {
   "cell_type": "markdown",
   "id": "e8bfe957",
   "metadata": {},
   "source": [
    "# 문제  \n",
    "- 첫째 줄에 숫자 카드들이 놓인 행의 개수 N과 열의 개수 M이 공백을 기준으로 하여 각각 자연수로 주어진다. (1<=N, M<=100)  \n",
    "- 둘째 줄부터 N개의 줄에 걸쳐 각 카드에 적힌 숫자가 주어진다. 각 숫자는 1 이상 10000 이하의 자연수이다."
   ]
  },
  {
   "cell_type": "code",
   "execution_count": 4,
   "id": "3c3db288",
   "metadata": {},
   "outputs": [
    {
     "name": "stdout",
     "output_type": "stream",
     "text": [
      "행의 개수와 열의 개수를 입력하세요 : 3 3\n",
      "첫째 행의 수를 입력하세요 : 3 1 2\n",
      "둘째 행의 수를 입력하세요 : 4 1 4\n",
      "셋째 행의 수를 입력하세요 : 2 2 2\n"
     ]
    },
    {
     "ename": "NameError",
     "evalue": "name 'Min' is not defined",
     "output_type": "error",
     "traceback": [
      "\u001b[1;31m---------------------------------------------------------------------------\u001b[0m",
      "\u001b[1;31mNameError\u001b[0m                                 Traceback (most recent call last)",
      "Input \u001b[1;32mIn [4]\u001b[0m, in \u001b[0;36m<cell line: 10>\u001b[1;34m()\u001b[0m\n\u001b[0;32m     10\u001b[0m \u001b[38;5;28;01mfor\u001b[39;00m i \u001b[38;5;129;01min\u001b[39;00m \u001b[38;5;28mrange\u001b[39m(\u001b[38;5;241m1\u001b[39m,N\u001b[38;5;241m+\u001b[39m\u001b[38;5;241m1\u001b[39m):\n\u001b[0;32m     11\u001b[0m     result \u001b[38;5;241m=\u001b[39m []\n\u001b[1;32m---> 12\u001b[0m     result\u001b[38;5;241m.\u001b[39mappend(\u001b[43mMin\u001b[49m(i))\n\u001b[0;32m     13\u001b[0m     Result \u001b[38;5;241m=\u001b[39m \u001b[38;5;28mmin\u001b[39m(result)\n\u001b[0;32m     15\u001b[0m \u001b[38;5;28mprint\u001b[39m(Result)\n",
      "\u001b[1;31mNameError\u001b[0m: name 'Min' is not defined"
     ]
    }
   ],
   "source": [
    "N, M = map(int, input('행의 개수와 열의 개수를 입력하세요 : ').split())\n",
    "data1 = map(int, input('첫째 행의 수를 입력하세요 : ').split())\n",
    "data2 = map(int, input('둘째 행의 수를 입력하세요 : ').split())\n",
    "data3 = map(int, input('셋째 행의 수를 입력하세요 : ').split())\n",
    "\n",
    "Min1 = min(data1)\n",
    "Min2 = min(data2)\n",
    "Min3 = min(data3)\n",
    "\n",
    "for i in range(1,N+1):\n",
    "    result = []\n",
    "    result.append(f'Min{i}')\n",
    "    Result = min(result)\n",
    "    \n",
    "print(Result)\n",
    "    "
   ]
  },
  {
   "cell_type": "code",
   "execution_count": 6,
   "id": "002737cf",
   "metadata": {},
   "outputs": [
    {
     "name": "stdout",
     "output_type": "stream",
     "text": [
      "행의 개수와 열의 개수를 입력하세요 : 2 4\n",
      "행과 열에 들어갈 수를 입력하세요: 7 3 1 8\n",
      "행과 열에 들어갈 수를 입력하세요: 3 3 3 4\n",
      "3\n"
     ]
    }
   ],
   "source": [
    "N, M = map(int, input('행의 개수와 열의 개수를 입력하세요 : ').split())\n",
    "\n",
    "result = []\n",
    "Result = 0\n",
    "for i in range(N):\n",
    "    data = map(int, input('행과 열에 들어갈 수를 입력하세요: ').split())\n",
    "    MIN = min(data)\n",
    "    result.append(MIN)\n",
    "    Result = max(result)\n",
    "    \n",
    "print(Result)"
   ]
  },
  {
   "cell_type": "markdown",
   "id": "4093ddef",
   "metadata": {},
   "source": [
    "###### 정답1"
   ]
  },
  {
   "cell_type": "code",
   "execution_count": 1,
   "id": "6ea53025",
   "metadata": {},
   "outputs": [
    {
     "name": "stdout",
     "output_type": "stream",
     "text": [
      "3 3\n",
      "3 1 2\n",
      "4 1 4\n",
      "2 2 2\n",
      "2\n"
     ]
    }
   ],
   "source": [
    "n, m = map(int, input().split())  # n은 행, m은 열\n",
    "\n",
    "result = 0\n",
    "# 한 줄씩 입력받아 확인\n",
    "for i in range(n):\n",
    "    data = list(map(int, input().split()))\n",
    "    # 현재 줄에서 '가장 작은 수' 찾기\n",
    "    min_value = min(data)\n",
    "    # '가장 작은 수'들 중에서 가장 큰 수 찾기\n",
    "    result = max(result, min_value)\n",
    "    \n",
    "print(result)"
   ]
  },
  {
   "cell_type": "markdown",
   "id": "e8f8c9dd",
   "metadata": {},
   "source": [
    "###### 정답2"
   ]
  },
  {
   "cell_type": "code",
   "execution_count": 2,
   "id": "870b08e2",
   "metadata": {},
   "outputs": [
    {
     "name": "stdout",
     "output_type": "stream",
     "text": [
      "3 3\n",
      "3 1 2\n",
      "4 1 4\n",
      "2 2 2\n",
      "2\n"
     ]
    }
   ],
   "source": [
    "n, m = map(int, input().split())\n",
    "\n",
    "result = 0\n",
    "for i in range(n):\n",
    "    data = list(map(int, input().split()))\n",
    "    min_value = 10001\n",
    "    for a in data:\n",
    "        min_value = min(min_value, a)\n",
    "    \n",
    "    result = max(result, min_value)\n",
    "print(result)"
   ]
  }
 ],
 "metadata": {
  "kernelspec": {
   "display_name": "Python 3 (ipykernel)",
   "language": "python",
   "name": "python3"
  },
  "language_info": {
   "codemirror_mode": {
    "name": "ipython",
    "version": 3
   },
   "file_extension": ".py",
   "mimetype": "text/x-python",
   "name": "python",
   "nbconvert_exporter": "python",
   "pygments_lexer": "ipython3",
   "version": "3.9.12"
  }
 },
 "nbformat": 4,
 "nbformat_minor": 5
}
