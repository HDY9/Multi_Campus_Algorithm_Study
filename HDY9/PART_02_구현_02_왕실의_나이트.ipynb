{
 "cells": [
  {
   "cell_type": "markdown",
   "id": "6c94c6cd",
   "metadata": {},
   "source": [
    "# 문제\n",
    "- 행복 왕국의 왕실 정원은 체스판과 같은 8x8 좌표 평면이다. 왕실 정원의 특정한 한 칸에 나이트가 서 있다.  \n",
    "- 나이트는 말을 타고 있기 때문에 이동을 할 때는 L자 형태로만 이동할 수 있으며 정원 밖으로는 나갈 수 없다.  \n",
    "- 나이트는 특정한 위치에서 다음과 같은 2가지 경우로 이동할 수 있다.  \n",
    "    1. 수평으로 두 칸 이동한 뒤에 수직으로 한 칸 이동하기\n",
    "    2. 수직으로 두 칸 이동한 뒤에 수평으로 한 칸 이동하기  \n",
    "- 이처럼 8x8 좌표 평면상에서 나이트의 위치가 주어졌을 때 나이트가 이동할 수 있는 경우의 수를 출력하는 프로그램을 작성하시오.\n",
    "    - 왕실의 정원에서 행 위치를 표현할 때는 1부터 8로 표현하며, 열 위치를 표현할 때는 a부터 h로 표현한다."
   ]
  },
  {
   "cell_type": "markdown",
   "id": "1cf8eb40",
   "metadata": {},
   "source": [
    "###### 입력 조건"
   ]
  },
  {
   "cell_type": "markdown",
   "id": "d2f48fc6",
   "metadata": {},
   "source": [
    "첫째 줄에 8x8 좌표 평면상에서 현재 나이트가 위치한 곳의 좌표를 나타내는 두 문자로 구성된 문자열이 입력된다.  \n",
    "입력 문자는 a1처럼 열과 행으로 이뤄진다."
   ]
  },
  {
   "cell_type": "markdown",
   "id": "730d81ef",
   "metadata": {},
   "source": [
    "###### 출력 조건"
   ]
  },
  {
   "cell_type": "markdown",
   "id": "43f4757d",
   "metadata": {},
   "source": [
    "첫째 줄에 나이트가 이동할 수 있는 경우의 수를 출력하시오."
   ]
  },
  {
   "cell_type": "code",
   "execution_count": 6,
   "id": "2b6af401",
   "metadata": {},
   "outputs": [
    {
     "name": "stdout",
     "output_type": "stream",
     "text": [
      "a1\n",
      "a\n",
      "1\n"
     ]
    }
   ],
   "source": [
    "Data = input()\n",
    "row = Data[0]\n",
    "col = int(Data[1])\n",
    "# print(row)\n",
    "# print(col)\n",
    "\n",
    "# 시작점\n",
    "row, col = Data[0], int(Data[1])\n",
    "count = 0\n",
    "\n",
    "row_list = [1,2,3,4,5,6,7,8]\n",
    "col_list = ['a','b','c','d','e','f','g','h']\n",
    "\n",
    "row_move = [-1,1,-2,2,-2,2,-1,1]\n",
    "col_move = [-2,-2,-1,-1,1,1,2,2]\n",
    "total_move = ['Ld','Lu','lD','lU','rD','rU','Rd','Ru']\n",
    "\n",
    "for i in total_move:\n",
    "    if i != 'Ld' and i != 'Lu' and i != 'lD', i != 'lU':\n",
    "        \n",
    "\n",
    "    # 모르겠다.........ㅠㅠㅠ\n",
    "    \n"
   ]
  },
  {
   "cell_type": "code",
   "execution_count": 14,
   "id": "c7885243",
   "metadata": {},
   "outputs": [
    {
     "name": "stdout",
     "output_type": "stream",
     "text": [
      "h8\n",
      "2\n"
     ]
    }
   ],
   "source": [
    "Data = input()\n",
    "col = Data[0]\n",
    "row = int(Data[1])\n",
    "\n",
    "col_list = ['a','b','c','d','e','f','g','h']  # 8개\n",
    "row_list = [1,2,3,4,5,6,7,8]  # 8개\n",
    "\n",
    "col_move = [-2,-2,-1,-1,1,1,2,2]\n",
    "row_move = [-1,1,-2,2,-2,2,-1,1]\n",
    "\n",
    "# total_move = ['Ld','Lu','lD','lU','rD','rU','Rd','Ru']\n",
    "# 나오면 안 되는  = -4, -3, -2, -1, 0, 12, 11, 10, 9, 8\n",
    "# 현재 인덱스 위치\n",
    "\n",
    "p_c = col_list.index(col)\n",
    "p_r = row_list.index(row)\n",
    "\n",
    "# print(p_r)\n",
    "# print(p_c)\n",
    "\n",
    "# \n",
    "result = 0\n",
    "for i in range(0,8):\n",
    "    c_m = col_move[i] + p_c\n",
    "    r_m = row_move[i] + p_r\n",
    "    if c_m > 7 or c_m < 0:\n",
    "        continue\n",
    "    if r_m > 7 or r_m < 0:\n",
    "        continue\n",
    "    result += 1\n",
    "\n",
    "print(result)"
   ]
  },
  {
   "cell_type": "markdown",
   "id": "e136fa3c",
   "metadata": {},
   "source": [
    "a1  >>  0,0\n",
    "h8  >>  7,7"
   ]
  },
  {
   "cell_type": "markdown",
   "id": "2b173912",
   "metadata": {},
   "source": [
    "###### 변수 정리\n",
    "\n",
    "Data = input값  \n",
    "col = input값의 column값  \n",
    "row = input값의 row값  \n",
    "  \n",
    "col_list = col로 가질 수 있는 총 종류(집합)  \n",
    "row_list = row로 가질 수 있는 총 종류(집합)  \n",
    "  \n",
    "col_move = L자 형태로 움직일 때 수평으로 움직일 수 있는 종류(경우의 수)  \n",
    "row_move = L자 형태로 움직일 때 수직으로 움직일 수 있는 종류(경우의 수)  \n",
    "  \n",
    "p_c = col_list에서 col 변수로 접근해 뽑은 인덱스 값  \n",
    "p_r = row_list에서 row 변수로 접근해 뽑은 인덱스 값  \n",
    "  \n",
    "---\n",
    "\n",
    "###### 풀이\n",
    "\n",
    "range(0,8)로 잡은 이유 : total_move는 L자 형태로 움직일 수 있는 총 경우를 리스트로 만든 것인데, 총 8개이므로 range를 그에 맞게 설정.  \n",
    "  \n",
    "현재 인덱스 값(행 or 열)과 움직일 때의 값(col_move or row_move)을 더했을 때, 나오면 안 되는 값의 쓰레스홀드를 지정.  \n",
    "그에 초과 범위를 continue로 무시해 버림.  \n",
    "  \n",
    "그 외의 허용되는 계산은 result로 카운팅.  "
   ]
  },
  {
   "cell_type": "markdown",
   "id": "e0f9e820",
   "metadata": {},
   "source": [
    "###### 정답1"
   ]
  },
  {
   "cell_type": "code",
   "execution_count": 15,
   "id": "457707bb",
   "metadata": {},
   "outputs": [
    {
     "name": "stdout",
     "output_type": "stream",
     "text": [
      "a1\n",
      "2\n"
     ]
    }
   ],
   "source": [
    "input_data = input()\n",
    "row = int(input_data[1])\n",
    "column = int(ord(input_data[0])) - int(ord('a'))+1\n",
    "\n",
    "steps = [(-2,-1),(-1,-2),(1,-2),(2,-1),(2,1),(1,2),(-1,2),(-2,1)]\n",
    "\n",
    "result = 0\n",
    "for step in steps:\n",
    "    next_row = row+step[0]\n",
    "    next_col = column+step[1]\n",
    "    if next_row >= 1 and next_row <= 8 and next_col >= 1 and next_row <= 8:\n",
    "        result += 1\n",
    "        \n",
    "print(result)"
   ]
  }
 ],
 "metadata": {
  "kernelspec": {
   "display_name": "Python 3 (ipykernel)",
   "language": "python",
   "name": "python3"
  },
  "language_info": {
   "codemirror_mode": {
    "name": "ipython",
    "version": 3
   },
   "file_extension": ".py",
   "mimetype": "text/x-python",
   "name": "python",
   "nbconvert_exporter": "python",
   "pygments_lexer": "ipython3",
   "version": "3.9.12"
  }
 },
 "nbformat": 4,
 "nbformat_minor": 5
}
