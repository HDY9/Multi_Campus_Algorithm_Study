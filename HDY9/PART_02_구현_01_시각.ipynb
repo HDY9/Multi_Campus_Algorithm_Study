{
 "cells": [
  {
   "cell_type": "markdown",
   "id": "0c483927",
   "metadata": {},
   "source": [
    "# 문제  \n",
    "정수 N이 입력되면 00시 00분 00초부터 N시 59분 59초까지의 모든 시각 중에서 3이 하나라도 포함되는 모든 경우의 수를 구하는 프로그램을 작성하시오."
   ]
  },
  {
   "cell_type": "markdown",
   "id": "50563172",
   "metadata": {},
   "source": [
    "###### 입력 조건\n",
    "- 첫째 줄에 정수 N이 입력된다. (0<=N<=23)"
   ]
  },
  {
   "cell_type": "markdown",
   "id": "9f42b8ee",
   "metadata": {},
   "source": [
    "###### 출력 조건\n",
    "- 00시 00분 00초부터 N시 59분 59초까지의 모든 시각 중에서 3이 하나라도 포함되는 모든 경우의 수를 출력한다."
   ]
  },
  {
   "cell_type": "code",
   "execution_count": 3,
   "id": "51ca6a96",
   "metadata": {},
   "outputs": [
    {
     "name": "stdout",
     "output_type": "stream",
     "text": [
      "5\n",
      "31\n"
     ]
    }
   ],
   "source": [
    "N = int(input())\n",
    "\n",
    "hour_result = 0\n",
    "minu_result = 0\n",
    "sec_result = 0\n",
    "\n",
    "for sec in range(60):\n",
    "    if '3' in str(sec):\n",
    "        sec_result += 1\n",
    "for minu in range(60):\n",
    "    if '3' in str(minu):\n",
    "        minu_result += 1\n",
    "for hour in range(N+1):\n",
    "    if '3' in str(hour):\n",
    "        hour_result += 1\n",
    "        \n",
    "total_result = sec_result + minu_result + hour_result\n",
    "print(total_result)"
   ]
  },
  {
   "cell_type": "code",
   "execution_count": 4,
   "id": "eb580a88",
   "metadata": {},
   "outputs": [
    {
     "name": "stdout",
     "output_type": "stream",
     "text": [
      "5\n",
      "14400\n"
     ]
    }
   ],
   "source": [
    "N = int(input())\n",
    "\n",
    "h_result = 0\n",
    "m_result = 0\n",
    "s_result = 0\n",
    "\n",
    "for h in range(N+1):\n",
    "    for m in range(60):\n",
    "        for s in range(60):\n",
    "            if '3' in str(h):\n",
    "                h_result += 1\n",
    "            if '3' in str(m):\n",
    "                m_result += 1\n",
    "            if '3' in str(s):\n",
    "                s_result += 1\n",
    "total_result = h_result + m_result + s_result\n",
    "print(total_result)"
   ]
  },
  {
   "cell_type": "code",
   "execution_count": 6,
   "id": "3f21623d",
   "metadata": {},
   "outputs": [
    {
     "name": "stdout",
     "output_type": "stream",
     "text": [
      "5\n",
      "11475\n"
     ]
    }
   ],
   "source": [
    "N = int(input())\n",
    "\n",
    "total_result = 0 \n",
    "\n",
    "for h in range(N+1):\n",
    "    for m in range(60):\n",
    "        for s in range(60):\n",
    "            if '3' in str(h) + str(m) + str(s):\n",
    "                total_result += 1\n",
    "                \n",
    "print(total_result)"
   ]
  },
  {
   "cell_type": "markdown",
   "id": "cd9e8d56",
   "metadata": {},
   "source": [
    "### 변수 정리\n",
    "- N  >>  '시'에 들어가는 input값  \n",
    "- total_result  >>  총 경우의 수"
   ]
  },
  {
   "cell_type": "markdown",
   "id": "c9b22c2a",
   "metadata": {},
   "source": [
    "### 풀이\n",
    "- 첫 번째 풀이 >> 실패  \n",
    "    - 좀 단순하게 hour의 영역과 minu의 영역 sec의 영역을 각각 나누어 '3'이라는 숫자가 들어있으면 각 result에 카운트를 한 후, 더하면 될 것이라 생각.\n",
    "    - 하지만 이렇게 계산하면 겹쳤을 때, 예를 들면 minu의 영역에 '3'이 들어있으면서 sec의 영역에 '3'이 들어있는 경우를 카운트하지 못 한다는 것을 깨닫.\n",
    "---\n",
    "- 두 번째 풀이 >> 실패\n",
    "    - hour / minu / sec 각 영역이 서로 연결되어 있으므로, for문으로 접근할 생각을 함.\n",
    "    - 사실 왜 틀리게 나오는지 정확하게 파악은 안 됨...ㅠ\n",
    "---\n",
    "- 세 번째 풀이 >> 성공 but, 답지를 조금 참고\n",
    "     - 실패의 이유를 찾다가, 접근법이 잘못되었나..? 하고 답지를 참고함.\n",
    "     - str로 접근하기 때문에, 시/분/초 를 나열할 수 있다는 keypoint를 발견."
   ]
  }
 ],
 "metadata": {
  "kernelspec": {
   "display_name": "Python 3 (ipykernel)",
   "language": "python",
   "name": "python3"
  },
  "language_info": {
   "codemirror_mode": {
    "name": "ipython",
    "version": 3
   },
   "file_extension": ".py",
   "mimetype": "text/x-python",
   "name": "python",
   "nbconvert_exporter": "python",
   "pygments_lexer": "ipython3",
   "version": "3.9.12"
  }
 },
 "nbformat": 4,
 "nbformat_minor": 5
}
