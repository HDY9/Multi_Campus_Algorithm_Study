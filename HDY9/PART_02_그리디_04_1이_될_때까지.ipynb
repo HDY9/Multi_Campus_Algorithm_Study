{
 "cells": [
  {
   "cell_type": "markdown",
   "id": "455f1300",
   "metadata": {},
   "source": [
    "# 문제\n",
    "- 첫째 줄에 N(2<=N<=100000)과 K(2<=K<=100000)가 공백으로 구분되며, 각각 자연수로 주어진다. 이때 입력으로 주어지는 N은 항상 K보다 크거나 같다.\n",
    "- 첫째 줄에 N이 1이 될 때까지 1번 혹은 2번의 과정을 수행해야 하는 횟수의 최솟값을 출력한다.  \n",
    "    - 1. N에서 1을 뺀다.\n",
    "    - 2. N을 K로 나눈다."
   ]
  },
  {
   "cell_type": "code",
   "execution_count": 7,
   "id": "c4168968",
   "metadata": {},
   "outputs": [
    {
     "name": "stdout",
     "output_type": "stream",
     "text": [
      "25 5\n",
      "2\n"
     ]
    }
   ],
   "source": [
    "N, K = map(int, input().split())\n",
    "\n",
    "result = 0\n",
    "\n",
    "while N >= K:\n",
    "    while N%K != 0:\n",
    "        N -= 1\n",
    "        result += 1\n",
    "    while N%K == 0:\n",
    "        N /= K\n",
    "        result +=1\n",
    "    if N == 1:\n",
    "        break\n",
    "print(result)"
   ]
  },
  {
   "cell_type": "markdown",
   "id": "4e8bfc26",
   "metadata": {},
   "source": [
    "###### 정답1"
   ]
  },
  {
   "cell_type": "code",
   "execution_count": null,
   "id": "5c0a0149",
   "metadata": {},
   "outputs": [],
   "source": [
    "n, k = map(int, input().split())\n",
    "result = 0\n",
    "\n"
   ]
  }
 ],
 "metadata": {
  "kernelspec": {
   "display_name": "Python 3 (ipykernel)",
   "language": "python",
   "name": "python3"
  },
  "language_info": {
   "codemirror_mode": {
    "name": "ipython",
    "version": 3
   },
   "file_extension": ".py",
   "mimetype": "text/x-python",
   "name": "python",
   "nbconvert_exporter": "python",
   "pygments_lexer": "ipython3",
   "version": "3.9.12"
  }
 },
 "nbformat": 4,
 "nbformat_minor": 5
}
