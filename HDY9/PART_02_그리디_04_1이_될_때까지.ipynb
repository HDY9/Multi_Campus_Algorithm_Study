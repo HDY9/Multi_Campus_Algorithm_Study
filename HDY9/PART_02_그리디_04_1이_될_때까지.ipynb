{
 "cells": [
  {
   "cell_type": "markdown",
   "id": "455f1300",
   "metadata": {},
   "source": [
    "# 문제\n",
    "- 첫째 줄에 N(2<=N<=100000)과 K(2<=K<=100000)가 공백으로 구분되며, 각각 자연수로 주어진다. 이때 입력으로 주어지는 N은 항상 K보다 크거나 같다.\n",
    "- 첫째 줄에 N이 1이 될 때까지 1번 혹은 2번의 과정을 수행해야 하는 횟수의 최솟값을 출력한다.  \n",
    "    - 1. N에서 1을 뺀다.\n",
    "    - 2. N을 K로 나눈다."
   ]
  },
  {
   "cell_type": "code",
   "execution_count": 7,
   "id": "c4168968",
   "metadata": {},
   "outputs": [
    {
     "name": "stdout",
     "output_type": "stream",
     "text": [
      "25 5\n",
      "2\n"
     ]
    }
   ],
   "source": [
    "N, K = map(int, input().split())\n",
    "\n",
    "result = 0\n",
    "\n",
    "while N >= K:\n",
    "    while N%K != 0:\n",
    "        N -= 1\n",
    "        result += 1\n",
    "    while N%K == 0:\n",
    "        N /= K\n",
    "        result +=1\n",
    "    if N == 1:\n",
    "        break\n",
    "print(result)"
   ]
  },
  {
   "cell_type": "markdown",
   "id": "ce60aa2b",
   "metadata": {},
   "source": [
    "### 변수 정리\n",
    "* N >> 어떠한 수 N(풀이의 목적이 되는 수)  \n",
    "* K >> N을 나누기 위한 수 K  \n",
    "* result >> N을 1로 만들 때, 거치는 과정 횟수  \n",
    "\n",
    "---\n",
    "\n",
    "### 풀이\n",
    "- 첫째 줄에 N과 K의 값을 지정하라고 했으며, 공백으로 구분하라고 했기에 map함수, input함수, split메소드 사용함.  \n",
    "- N이 항상 K보다 크거나 같다는 부분과, N이 1이 될 때까지 연산 과정을 수행해야 한다는 점에서 while문이 필요하다고 생각.  \n",
    "- 두 번째 연산은 N이 K로 나누어떨어질 때만 선택할 수 있다고 했기에 >>> 나누어떨이지지 않는다면 1번 연산을 계속해서 수행한다는 의미.\n",
    "- N이 K로 나누어떨어질 땐 둘을 나누는 연산을 실행.\n",
    "- result 초깃값을 설정한 이유는 답 자체가 연산 횟수의 최솟값을 뽑아내야 하기 때문에.\n",
    "- while문이기 때문에 break 장치가 필요  >>>  if N == 1, break"
   ]
  },
  {
   "cell_type": "markdown",
   "id": "4e8bfc26",
   "metadata": {},
   "source": [
    "###### 정답1"
   ]
  },
  {
   "cell_type": "code",
   "execution_count": 1,
   "id": "5c0a0149",
   "metadata": {},
   "outputs": [
    {
     "name": "stdout",
     "output_type": "stream",
     "text": [
      "25 5\n",
      "2\n"
     ]
    }
   ],
   "source": [
    "n, k = map(int, input().split())\n",
    "result = 0\n",
    "\n",
    "# N이 k이상이라면 k로 계속 나누기\n",
    "while n >= k:\n",
    "    # N이 K로 나누어 떨어지지 않는다면 N에서 1씩 빼기\n",
    "    while n%k != 0:\n",
    "        n -= 1\n",
    "        result += 1\n",
    "    # K로 나누기\n",
    "    n //= k\n",
    "    result += 1\n",
    "\n",
    "# 마지막으로 남은 수에 대해 1씩 빼기\n",
    "while n > 1:\n",
    "    n -= 1\n",
    "    result += 1\n",
    "print(result)"
   ]
  },
  {
   "cell_type": "markdown",
   "id": "af097e7a",
   "metadata": {},
   "source": [
    "###### 정답2"
   ]
  },
  {
   "cell_type": "code",
   "execution_count": 2,
   "id": "520908ce",
   "metadata": {},
   "outputs": [
    {
     "name": "stdout",
     "output_type": "stream",
     "text": [
      "25 5\n",
      "2\n"
     ]
    }
   ],
   "source": [
    "n, k = map(int, input().split())\n",
    "result = 0\n",
    "\n",
    "while True:\n",
    "    target = (n//k)*k\n",
    "    result += (n-target)\n",
    "    n = target\n",
    "    \n",
    "    if n < k:\n",
    "        break\n",
    "    \n",
    "    result += 1\n",
    "    n //= k\n",
    "    \n",
    "result += (n-1)\n",
    "print(result)"
   ]
  }
 ],
 "metadata": {
  "kernelspec": {
   "display_name": "Python 3 (ipykernel)",
   "language": "python",
   "name": "python3"
  },
  "language_info": {
   "codemirror_mode": {
    "name": "ipython",
    "version": 3
   },
   "file_extension": ".py",
   "mimetype": "text/x-python",
   "name": "python",
   "nbconvert_exporter": "python",
   "pygments_lexer": "ipython3",
   "version": "3.9.12"
  }
 },
 "nbformat": 4,
 "nbformat_minor": 5
}
