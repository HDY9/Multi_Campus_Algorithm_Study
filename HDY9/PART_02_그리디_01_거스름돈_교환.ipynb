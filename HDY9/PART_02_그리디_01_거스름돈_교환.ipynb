{
 "cells": [
  {
   "cell_type": "markdown",
   "id": "82b21c5b",
   "metadata": {},
   "source": [
    "## 1. 당장 좋은 것만 선택하는 그리디\n",
    "\n",
    "    - 현재 상황에서 지금 당장 좋은 것만 고르는 방법"
   ]
  },
  {
   "cell_type": "code",
   "execution_count": 1,
   "id": "17ac46c0",
   "metadata": {},
   "outputs": [],
   "source": [
    "# 3-1 거스름돈 교환"
   ]
  },
  {
   "cell_type": "code",
   "execution_count": 3,
   "id": "a9c2504c",
   "metadata": {},
   "outputs": [
    {
     "name": "stdout",
     "output_type": "stream",
     "text": [
      "500원 짜리는 총 2개 입니다.\n",
      "100원 짜리는 총 2개 입니다.\n",
      "50원 짜리는 총 1개 입니다.\n",
      "10원 짜리는 총 1개 입니다.\n"
     ]
    }
   ],
   "source": [
    "money = 1260\n",
    "c500,c100,c50,c10 = 0,0,0,0\n",
    "\n",
    "c500 = money//500\n",
    "money = money%500\n",
    "c100 = money//100\n",
    "money = money%100\n",
    "c50 = money//50\n",
    "money = money%50\n",
    "c10 = money//10\n",
    "money = money%10\n",
    "\n",
    "print('500원 짜리는 총 %d개 입니다.' % c500)\n",
    "print('100원 짜리는 총 %d개 입니다.' % c100)\n",
    "print('50원 짜리는 총 %d개 입니다.' % c50)\n",
    "print('10원 짜리는 총 %d개 입니다.' % c10)"
   ]
  },
  {
   "cell_type": "code",
   "execution_count": 1,
   "id": "9f154e90",
   "metadata": {},
   "outputs": [
    {
     "name": "stdout",
     "output_type": "stream",
     "text": [
      "\n"
     ]
    }
   ],
   "source": [
    "n = 1260\n",
    "count = 0 \n",
    "\n",
    "# 큰 단위의 화폐부터 차례대로 확인\n",
    "coin_types = [500,100,50,10]\n",
    "\n",
    "for coin in coin_types:\n",
    "    count += n // coin  # 해당 화폐로 거슬러 줄 수 있는 동전의 개수 세기\n",
    "    n%=coin\n",
    "    \n",
    "print()"
   ]
  }
 ],
 "metadata": {
  "kernelspec": {
   "display_name": "Python 3 (ipykernel)",
   "language": "python",
   "name": "python3"
  },
  "language_info": {
   "codemirror_mode": {
    "name": "ipython",
    "version": 3
   },
   "file_extension": ".py",
   "mimetype": "text/x-python",
   "name": "python",
   "nbconvert_exporter": "python",
   "pygments_lexer": "ipython3",
   "version": "3.9.12"
  }
 },
 "nbformat": 4,
 "nbformat_minor": 5
}
